{
 "cells": [
  {
   "cell_type": "markdown",
   "metadata": {},
   "source": [
    "# Assignment #4 - Neural Networks\n",
    "\n",
    "### <font color=\"red\"> DUE: Apr 16 (Monday) 11:00 pm </font>  "
   ]
  },
  {
   "cell_type": "markdown",
   "metadata": {},
   "source": [
    "Rohini Isarapu\n"
   ]
  },
  {
   "cell_type": "markdown",
   "metadata": {},
   "source": [
    "# I. Overview\n",
    "\n",
    "The objective of this assignment is to implement logistic regression classifier using Neural Network. These models are trained using a K- cross validation.The results obtained from Neural network would be compared with classification algorithms(Linear logistic regression, QDA, LDA and logistic regression)."
   ]
  },
  {
   "cell_type": "code",
   "execution_count": 21,
   "metadata": {
    "collapsed": true
   },
   "outputs": [],
   "source": [
    "import numpy as np\n",
    "import pandas as pd\n",
    "import seaborn as sns\n",
    "from scipy import stats\n",
    "from sklearn.model_selection import train_test_split\n",
    "from pandas.tools import plotting\n",
    "import matplotlib.pyplot as plt\n",
    "from IPython.core.debugger import Tracer\n",
    "from copy import deepcopy as copy \n",
    "%matplotlib inline"
   ]
  },
  {
   "cell_type": "markdown",
   "metadata": {},
   "source": [
    "# II. Data\n",
    "\n",
    "The dataset “Deaths in United States” consists of a CSV file with 30 features and about 27 lakh rows. It consists of all the deaths which occurred in the year 2015 across United States with a precise information about the details of the death and statistical background of the departed. We can analyze the circumstances and how the death in U.S is different from other countries. The death reports are accurate as it is released by CDC (Centers for disease control and prevention) under the National Vital Statistics System.\n",
    "\n",
    "Some of the important columns include:\n",
    "\n",
    "• Month_of_death\n",
    "\n",
    "• Sex\n",
    "\n",
    "• Place of death\n",
    "\n",
    "• Marital Status\n",
    "\n",
    "• Manner of death\n",
    "\n",
    "• Method of Disposition\n",
    "\n",
    "The attribute values consist of numeric as well as strings.\n",
    "\n",
    "Removed few columns as it the information was repetitive and I found no significance in regards with the analyzation of the deaths based on gender.\n",
    "\n",
    "Encoded zeros and ones for Male and Female.\n",
    "0: Male\n",
    "1: Female\n",
    "\n",
    "Encoded the values of the column \"manner_of_death\" as follows:\n",
    "1:Accident\n",
    "2:Suicide\n",
    "3:Homicide\n",
    "4:Pending investigation\n",
    "5:Could not determine\n",
    "6:Self-Inflicted\n",
    "7:Natural\n",
    "0:Not specified\n",
    "\n",
    "The column \"manner_of_death\" had missing values. Replaced all the missing values with zeros.\n",
    "\n",
    "Eliminated the rows where the age is greater than 100.\n"
   ]
  },
  {
   "cell_type": "code",
   "execution_count": 22,
   "metadata": {
    "collapsed": true
   },
   "outputs": [],
   "source": [
    "UsDeaths = pd.read_csv(\"C:/Users/isara/Documents/2015_data.csv\",nrows = 5000)"
   ]
  },
  {
   "cell_type": "code",
   "execution_count": 23,
   "metadata": {},
   "outputs": [
    {
     "name": "stdout",
     "output_type": "stream",
     "text": [
      "      resident_status  month_of_death sex  detail_age  age_recode_12  \\\n",
      "0                   1               1   M          84             10   \n",
      "1                   1               1   M          70              9   \n",
      "2                   1               1   F          91             11   \n",
      "3                   1               1   F          40              6   \n",
      "4                   1               1   F          89             11   \n",
      "5                   1               1   M          78             10   \n",
      "6                   1               1   M          92             11   \n",
      "7                   1               1   M          82             10   \n",
      "8                   1               1   F          89             11   \n",
      "9                   1               1   F          93             11   \n",
      "10                  1               1   F          84             10   \n",
      "11                  1               1   F          84             10   \n",
      "12                  1               1   F          67              9   \n",
      "13                  1               1   M          94             11   \n",
      "14                  1               1   M          56              8   \n",
      "15                  1               1   M          32              5   \n",
      "16                  1               1   M          18              4   \n",
      "17                  1               1   M          48              7   \n",
      "18                  1               1   F          79             10   \n",
      "19                  1               1   M          85             11   \n",
      "20                  1               1   F          61              8   \n",
      "21                  1               1   M          56              8   \n",
      "22                  1               1   M          72              9   \n",
      "23                  1               1   F          86             11   \n",
      "24                  1               1   M          98             11   \n",
      "25                  1               1   F          66              9   \n",
      "26                  1               1   F          62              8   \n",
      "27                  1               1   F          82             10   \n",
      "28                  1               1   M          60              8   \n",
      "29                  1               1   F          43              6   \n",
      "...               ...             ...  ..         ...            ...   \n",
      "4970                1               1   M          68              9   \n",
      "4971                1               1   M          93             11   \n",
      "4972                1               1   M          58              8   \n",
      "4973                1               1   F          64              8   \n",
      "4974                3               1   M          75             10   \n",
      "4975                1               1   F          93             11   \n",
      "4976                2               1   M          93             11   \n",
      "4977                1               1   F          48              7   \n",
      "4978                1               1   M          72              9   \n",
      "4979                1               1   F          42              6   \n",
      "4980                1               1   M          62              8   \n",
      "4981                2               1   F          86             11   \n",
      "4982                1               1   M          82             10   \n",
      "4983                1               1   M          75             10   \n",
      "4984                2               1   F          63              8   \n",
      "4985                1               1   F          79             10   \n",
      "4986                1               1   F          95             11   \n",
      "4987                1               1   M          88             11   \n",
      "4988                1               1   M          83             10   \n",
      "4989                1               1   M          83             10   \n",
      "4990                2               1   F          44              6   \n",
      "4991                2               1   M          86             11   \n",
      "4992                1               1   M          75             10   \n",
      "4993                1               1   F          39              6   \n",
      "4994                1               1   M          56              8   \n",
      "4995                1               1   M          82             10   \n",
      "4996                1               1   M          72              9   \n",
      "4997                2               1   M          60              8   \n",
      "4998                1               1   F          88             11   \n",
      "4999                1               1   F          56              8   \n",
      "\n",
      "      place_of_death_and_decedents_status marital_status  \\\n",
      "0                                       1              M   \n",
      "1                                       1              M   \n",
      "2                                       4              W   \n",
      "3                                       4              S   \n",
      "4                                       6              W   \n",
      "5                                       4              W   \n",
      "6                                       4              W   \n",
      "7                                       4              M   \n",
      "8                                       4              W   \n",
      "9                                       6              W   \n",
      "10                                      6              M   \n",
      "11                                      6              M   \n",
      "12                                      1              M   \n",
      "13                                      6              W   \n",
      "14                                      6              M   \n",
      "15                                      1              S   \n",
      "16                                      7              S   \n",
      "17                                      4              M   \n",
      "18                                      6              W   \n",
      "19                                      6              W   \n",
      "20                                      4              M   \n",
      "21                                      4              S   \n",
      "22                                      1              M   \n",
      "23                                      4              W   \n",
      "24                                      1              W   \n",
      "25                                      6              M   \n",
      "26                                      1              D   \n",
      "27                                      2              W   \n",
      "28                                      4              M   \n",
      "29                                      1              M   \n",
      "...                                   ...            ...   \n",
      "4970                                    1              S   \n",
      "4971                                    4              M   \n",
      "4972                                    4              S   \n",
      "4973                                    1              W   \n",
      "4974                                    2              M   \n",
      "4975                                    4              W   \n",
      "4976                                    1              W   \n",
      "4977                                    7              W   \n",
      "4978                                    4              M   \n",
      "4979                                    7              D   \n",
      "4980                                    4              M   \n",
      "4981                                    1              W   \n",
      "4982                                    6              W   \n",
      "4983                                    4              D   \n",
      "4984                                    1              M   \n",
      "4985                                    6              W   \n",
      "4986                                    4              W   \n",
      "4987                                    4              M   \n",
      "4988                                    6              M   \n",
      "4989                                    1              M   \n",
      "4990                                    1              D   \n",
      "4991                                    6              W   \n",
      "4992                                    1              M   \n",
      "4993                                    2              M   \n",
      "4994                                    2              S   \n",
      "4995                                    1              W   \n",
      "4996                                    4              M   \n",
      "4997                                    6              D   \n",
      "4998                                    4              W   \n",
      "4999                                    4              M   \n",
      "\n",
      "      day_of_week_of_death injury_at_work  manner_of_death  \\\n",
      "0                        1              U              7.0   \n",
      "1                        2              U              7.0   \n",
      "2                        6              U              7.0   \n",
      "3                        5              N              3.0   \n",
      "4                        5              U              7.0   \n",
      "5                        6              U              7.0   \n",
      "6                        1              U              7.0   \n",
      "7                        1              U              7.0   \n",
      "8                        1              U              7.0   \n",
      "9                        7              U              7.0   \n",
      "10                       1              U              7.0   \n",
      "11                       1              U              7.0   \n",
      "12                       2              U              7.0   \n",
      "13                       7              U              7.0   \n",
      "14                       7              U              7.0   \n",
      "15                       6              N              1.0   \n",
      "16                       1              N              2.0   \n",
      "17                       7              N              2.0   \n",
      "18                       5              U              7.0   \n",
      "19                       6              U              7.0   \n",
      "20                       7              U              7.0   \n",
      "21                       1              U              7.0   \n",
      "22                       5              U              7.0   \n",
      "23                       1              U              7.0   \n",
      "24                       6              U              7.0   \n",
      "25                       6              U              7.0   \n",
      "26                       5              U              7.0   \n",
      "27                       7              U              7.0   \n",
      "28                       7              U              7.0   \n",
      "29                       5              U              7.0   \n",
      "...                    ...            ...              ...   \n",
      "4970                     5              U              7.0   \n",
      "4971                     5              U              7.0   \n",
      "4972                     2              U              7.0   \n",
      "4973                     3              U              7.0   \n",
      "4974                     2              U              7.0   \n",
      "4975                     2              U              7.0   \n",
      "4976                     7              U              7.0   \n",
      "4977                     6              U              7.0   \n",
      "4978                     2              U              7.0   \n",
      "4979                     4              N              1.0   \n",
      "4980                     6              N              2.0   \n",
      "4981                     4              U              7.0   \n",
      "4982                     4              U              7.0   \n",
      "4983                     6              U              7.0   \n",
      "4984                     6              U              7.0   \n",
      "4985                     4              U              7.0   \n",
      "4986                     7              U              7.0   \n",
      "4987                     5              U              7.0   \n",
      "4988                     4              U              7.0   \n",
      "4989                     7              U              7.0   \n",
      "4990                     5              U              7.0   \n",
      "4991                     2              U              7.0   \n",
      "4992                     4              U              7.0   \n",
      "4993                     6              U              7.0   \n",
      "4994                     7              U              7.0   \n",
      "4995                     1              U              7.0   \n",
      "4996                     3              U              7.0   \n",
      "4997                     1              U              7.0   \n",
      "4998                     1              U              7.0   \n",
      "4999                     3              U              7.0   \n",
      "\n",
      "     method_of_disposition autopsy  race_recode_5  hispanic_originrace_recode  \n",
      "0                        B       N              1                           6  \n",
      "1                        C       N              1                           6  \n",
      "2                        C       N              1                           6  \n",
      "3                        B       Y              3                           8  \n",
      "4                        C       N              1                           6  \n",
      "5                        C       N              3                           8  \n",
      "6                        R       N              1                           6  \n",
      "7                        C       N              1                           6  \n",
      "8                        B       N              1                           6  \n",
      "9                        C       N              1                           6  \n",
      "10                       B       N              1                           6  \n",
      "11                       C       N              1                           6  \n",
      "12                       C       N              1                           6  \n",
      "13                       C       N              1                           6  \n",
      "14                       C       N              1                           6  \n",
      "15                       B       N              3                           8  \n",
      "16                       B       N              3                           8  \n",
      "17                       C       N              1                           6  \n",
      "18                       C       N              3                           8  \n",
      "19                       C       N              1                           6  \n",
      "20                       R       N              1                           6  \n",
      "21                       C       N              3                           8  \n",
      "22                       C       N              1                           6  \n",
      "23                       C       N              1                           6  \n",
      "24                       C       N              4                           8  \n",
      "25                       C       N              3                           8  \n",
      "26                       B       N              3                           8  \n",
      "27                       B       N              3                           8  \n",
      "28                       C       N              1                           6  \n",
      "29                       C       N              1                           6  \n",
      "...                    ...     ...            ...                         ...  \n",
      "4970                     U       N              2                           7  \n",
      "4971                     U       U              1                           6  \n",
      "4972                     U       N              1                           6  \n",
      "4973                     U       N              1                           6  \n",
      "4974                     U       N              1                           6  \n",
      "4975                     U       N              1                           6  \n",
      "4976                     U       N              1                           6  \n",
      "4977                     U       N              1                           6  \n",
      "4978                     U       N              1                           6  \n",
      "4979                     U       N              1                           6  \n",
      "4980                     U       Y              1                           6  \n",
      "4981                     U       N              1                           6  \n",
      "4982                     U       N              1                           6  \n",
      "4983                     U       N              1                           6  \n",
      "4984                     U       N              2                           7  \n",
      "4985                     U       N              1                           6  \n",
      "4986                     U       N              1                           6  \n",
      "4987                     U       U              1                           6  \n",
      "4988                     U       U              1                           6  \n",
      "4989                     U       N              1                           6  \n",
      "4990                     U       N              1                           6  \n",
      "4991                     U       N              1                           6  \n",
      "4992                     U       N              1                           6  \n",
      "4993                     U       N              2                           7  \n",
      "4994                     U       N              1                           3  \n",
      "4995                     U       U              1                           6  \n",
      "4996                     U       N              1                           6  \n",
      "4997                     U       N              1                           6  \n",
      "4998                     U       N              1                           6  \n",
      "4999                     U       U              1                           6  \n",
      "\n",
      "[4968 rows x 14 columns]\n"
     ]
    },
    {
     "name": "stderr",
     "output_type": "stream",
     "text": [
      "C:\\Users\\isara\\Anaconda3\\lib\\site-packages\\ipykernel_launcher.py:13: UserWarning: Boolean Series key will be reindexed to match DataFrame index.\n",
      "  del sys.path[0]\n"
     ]
    }
   ],
   "source": [
    "new_UsDeaths_Data=UsDeaths.drop(['education_1989_revision','education_2003_revision','education_reporting_flag','detail_age_type',\n",
    "                       'age_substitution_flag','age_recode_52','age_recode_27','infant_age_recode_22','current_data_year','activity_code',\n",
    "                       'icd_code_10th_revision','358_cause_recode','113_cause_recode','130_infant_cause_recode','39_cause_recode',\n",
    "                       'number_of_entity_axis_conditions','entity_condition_1','entity_condition_2','entity_condition_3','entity_condition_4',\n",
    "                       'entity_condition_5','entity_condition_6','entity_condition_7','entity_condition_8','entity_condition_9','entity_condition_10',\n",
    "            'entity_condition_11','entity_condition_12','entity_condition_13','entity_condition_14','entity_condition_15','entity_condition_16','entity_condition_17','entity_condition_18',\n",
    "                       'entity_condition_19','entity_condition_20','number_of_record_axis_conditions','record_condition_1',\n",
    "                       'record_condition_2','record_condition_3','record_condition_4','record_condition_5','record_condition_6',\n",
    "                       'record_condition_7','record_condition_8','record_condition_9','record_condition_10','record_condition_11','record_condition_12','record_condition_13',\n",
    "                       'record_condition_14','record_condition_15','record_condition_16','record_condition_17','record_condition_18','record_condition_19',\n",
    "                       'record_condition_20','race','bridged_race_flag','race_imputation_flag','race_recode_3','hispanic_origin','place_of_injury_for_causes_w00_y34_except_y06_and_y07_'],axis=1)\n",
    "\n",
    "new_UsDeaths_Data = new_UsDeaths_Data[new_UsDeaths_Data.detail_age < 100][new_UsDeaths_Data.day_of_week_of_death< 8]\n",
    "print(new_UsDeaths_Data)"
   ]
  },
  {
   "cell_type": "code",
   "execution_count": 24,
   "metadata": {},
   "outputs": [
    {
     "data": {
      "text/plain": [
       "resident_status                        False\n",
       "month_of_death                         False\n",
       "sex                                    False\n",
       "detail_age                             False\n",
       "age_recode_12                          False\n",
       "place_of_death_and_decedents_status    False\n",
       "marital_status                         False\n",
       "day_of_week_of_death                   False\n",
       "injury_at_work                         False\n",
       "manner_of_death                         True\n",
       "method_of_disposition                  False\n",
       "autopsy                                False\n",
       "race_recode_5                          False\n",
       "hispanic_originrace_recode             False\n",
       "dtype: bool"
      ]
     },
     "execution_count": 24,
     "metadata": {},
     "output_type": "execute_result"
    }
   ],
   "source": [
    "nans=new_UsDeaths_Data.isnull().any()\n",
    "nans"
   ]
  },
  {
   "cell_type": "code",
   "execution_count": 25,
   "metadata": {},
   "outputs": [
    {
     "data": {
      "text/plain": [
       "[Text(0,0,'1.0'),\n",
       " Text(0,0,'2.0'),\n",
       " Text(0,0,'3.0'),\n",
       " Text(0,0,'4.0'),\n",
       " Text(0,0,'5.0'),\n",
       " Text(0,0,'7.0')]"
      ]
     },
     "execution_count": 25,
     "metadata": {},
     "output_type": "execute_result"
    },
    {
     "data": {
      "image/png": "[encoded data removed]",
      "text/plain": [
       "<matplotlib.figure.Figure at 0x2aa678c65f8>"
      ]
     },
     "metadata": {},
     "output_type": "display_data"
    }
   ],
   "source": [
    "plt.title('Manner Of Death vs Age vs Marital Status', fontsize=18)\n",
    "ax=sns.boxplot(x=\"manner_of_death\",y=\"detail_age\",hue=\"sex\",data=new_UsDeaths_Data)\n",
    "plt.legend(bbox_to_anchor=(1.05, 1), loc=2, borderaxespad=0.)\n",
    "ax.set_xticklabels(ax.get_xticklabels(),rotation=30)"
   ]
  },
  {
   "cell_type": "code",
   "execution_count": 26,
   "metadata": {},
   "outputs": [
    {
     "name": "stdout",
     "output_type": "stream",
     "text": [
      "resident_status                          int64\n",
      "month_of_death                           int64\n",
      "sex                                     object\n",
      "detail_age                               int64\n",
      "age_recode_12                            int64\n",
      "place_of_death_and_decedents_status      int64\n",
      "marital_status                          object\n",
      "day_of_week_of_death                     int64\n",
      "injury_at_work                          object\n",
      "manner_of_death                        float64\n",
      "method_of_disposition                   object\n",
      "autopsy                                 object\n",
      "race_recode_5                            int64\n",
      "hispanic_originrace_recode               int64\n",
      "dtype: object\n"
     ]
    }
   ],
   "source": [
    "print(new_UsDeaths_Data.dtypes)"
   ]
  },
  {
   "cell_type": "code",
   "execution_count": 27,
   "metadata": {
    "collapsed": true
   },
   "outputs": [],
   "source": [
    "new_UsDeaths_Data.sex=new_UsDeaths_Data.sex.replace({'M':0,'F':1})"
   ]
  },
  {
   "cell_type": "code",
   "execution_count": 28,
   "metadata": {
    "collapsed": true
   },
   "outputs": [],
   "source": [
    "new_UsDeaths_Data['sex']=new_UsDeaths_Data['sex'].astype(np.int64)"
   ]
  },
  {
   "cell_type": "code",
   "execution_count": 29,
   "metadata": {
    "collapsed": true
   },
   "outputs": [],
   "source": [
    "new_UsDeaths_Data['manner_of_death']=new_UsDeaths_Data['manner_of_death'].fillna(0)"
   ]
  },
  {
   "cell_type": "code",
   "execution_count": 30,
   "metadata": {
    "collapsed": true
   },
   "outputs": [],
   "source": [
    "new_UsDeaths_Data['manner_of_death']=new_UsDeaths_Data['manner_of_death'].astype(np.int64)"
   ]
  },
  {
   "cell_type": "code",
   "execution_count": 31,
   "metadata": {
    "collapsed": true
   },
   "outputs": [],
   "source": [
    "Features = [\"manner_of_death\",\"detail_age\"]\n",
    "XX=new_UsDeaths_Data.loc[:,Features].as_matrix()\n",
    "TT = np.array(new_UsDeaths_Data.loc[:,'sex'])\n",
    "new_UsDeaths_DataShuffle = new_UsDeaths_Data.iloc[np.random.permutation(len(new_UsDeaths_Data))]\n",
    "X = new_UsDeaths_DataShuffle.loc[:,Features].as_matrix()\n",
    "T = np.array(new_UsDeaths_DataShuffle.loc[:,'sex'])\n",
    "Classes = [(new_UsDeaths_Data.loc[new_UsDeaths_Data['sex'] == 0], 'M'),\n",
    "                     (new_UsDeaths_Data.loc[new_UsDeaths_Data['sex'] == 1], 'F')]"
   ]
  },
  {
   "cell_type": "markdown",
   "metadata": {},
   "source": [
    "# III. Methods\n",
    "\n",
    "Neural Networks:\n",
    "\n",
    "Single layer percepton cannot be used for complex non-linear problems because computing and calculating from so many inputs and their sub parameters is not just possible through one neuron. Therefore,MultiLayer Perceptron comes into picture.\n",
    "The Neural Network consists of:\n",
    "1)Input Layer: The input nodes provide information from the outside world to the network.\n",
    "2)Hidden Layer: They perform calculations and transfer the information from the input nodes to the output nodes.\n",
    "3)Output Nodes: They are responsible for computations and transferring information from network to the outside world.\n",
    "\n",
    "Non Linear Regression:\n",
    "\n",
    "The key difference between a linear and a non linear classifer is that the summation of the weighted sum is directly not applied to the activation function(here softmax function).The non linear model will have another layer or layers of neural network where in the inputs are fed, weighted sum is calculated and then softmax function is applied to find the probability of the class.\n",
    "\n",
    "Mathematically, we can represent a linear model as follows:\n",
    "                               Z = h(X1.V)\n",
    "                               Y = Z1. W \n",
    "where h = activation function\n",
    "      X1 = Bias column with one's\n",
    "      W = Weight vector\n",
    "      Z1 = Bias column with one's\n",
    "      \n",
    "The non linear moedel takes Y and then activation function is applied on it. As aresult of this we get new input G.\n",
    "\n",
    "Non Linear Logistic Regression:\n",
    "\n",
    "The NeuralNet(nn.py) is used as a super class.\n",
    "\n",
    "The _init_() method takes the input as array and sets the standardization to target to false.\n",
    "The forward() method takes the input X and the output is obtained from NeuralNetForward() method. The softmax function is applied to the output to return Z. \n",
    "The _object() method  reflects the likelihood function of logistic regression.\n",
    "The train() method converts the vector label T to indicator variable and feed that for training.\n",
    "Since we now have probabilities and for each label, in the use() method we use argmax to find out the class with highest probability/likelihood.\n",
    "\n",
    "Preliminary Test:\n",
    "\n",
    "For the preliminary test purpose, the input X has 2 features per sample and the target variables are already indicator variables.I have given NeuralNetLogReg class 2 inputs, 4 hidden layers and 2 outputs. The code uses NeuralNetLogReg.\n",
    "\n",
    "K-Cross Validation:\n",
    "\n",
    "In order to avoid overfitting, cross validation technique. In this assignment, the data set is split into 5 folds. \n",
    "1. Divide the data set into n folds(here 5 folds)\n",
    "2. Hold out one fold as test set and use the others as training set.\n",
    "3. Train and record the test set result.\n",
    "4. Perform step 2 and 3 by considering each fold as a test set.\n",
    "5. The model with the highest accuracy was assigned to the corresponding test set and used as a training set to train another model.\n"
   ]
  },
  {
   "cell_type": "code",
   "execution_count": 32,
   "metadata": {
    "collapsed": true
   },
   "outputs": [],
   "source": [
    "from nn import NeuralNet\n",
    "\n",
    "class NeuralNetLogReg(NeuralNet):\n",
    "    \n",
    "    def __init__(self, nunits):\n",
    "        NeuralNet.__init__(self,nunits)\n",
    "        self.stdTarget = False\n",
    "        \n",
    "    def forward(self, X):\n",
    "        def soft_max(z):\n",
    "            return  np.exp(z) / np.sum(np.exp(z), axis=1, keepdims=True)\n",
    "        t, Z = NeuralNet.forward(self, X)\n",
    "        t = soft_max(t)\n",
    "        return t, Z\n",
    "    \n",
    "    def _errorf(self, T, Y):\n",
    "        return NeuralNet._errorf(self, T, Y)\n",
    "\n",
    "    def _objectf(self, T, Y, wpenalty):\n",
    "        return -np.sum(T*np.log(Y)) + wpenalty\n",
    "\n",
    "    def train(self, X, T, **params):\n",
    "        if(len(T.shape) > 1): \n",
    "            if(T.shape[1] > 1):\n",
    "                return NeuralNet.train(self, X, T, **params)\n",
    "            T = T.flatten() \n",
    "        uniqueItems = np.unique(T) \n",
    "        T1 = (T[:,None] == uniqueItems).astype(int) \n",
    "        return NeuralNet.train(self, X, T1, **params) \n",
    "\n",
    "\n",
    "    def use(self, X):\n",
    "        Y = NeuralNet.use(self,X)\n",
    "        return np.argmax(Y,1),Y\n"
   ]
  },
  {
   "cell_type": "code",
   "execution_count": 33,
   "metadata": {},
   "outputs": [
    {
     "name": "stdout",
     "output_type": "stream",
     "text": [
      "[[1 1]\n",
      " [1 1]\n",
      " [0 0]] (array([1, 0, 0], dtype=int64), array([[ 0.49521113,  0.50478887],\n",
      "       [ 0.50438556,  0.49561444],\n",
      "       [ 0.50245935,  0.49754065]]))\n"
     ]
    },
    {
     "name": "stderr",
     "output_type": "stream",
     "text": [
      "C:\\Users\\isara\\Anaconda3\\lib\\site-packages\\ipykernel_launcher.py:11: RuntimeWarning: overflow encountered in exp\n",
      "  # This is added back by InteractiveShellApp.init_path()\n",
      "C:\\Users\\isara\\Anaconda3\\lib\\site-packages\\ipykernel_launcher.py:11: RuntimeWarning: invalid value encountered in true_divide\n",
      "  # This is added back by InteractiveShellApp.init_path()\n"
     ]
    }
   ],
   "source": [
    "### Preliminary Test\n",
    "import numpy\n",
    "X = np.array([0,1,1,0,1,1]).reshape(3,2)\n",
    "T = np.array([1,1,1,1,0,0]).reshape(3,2)\n",
    "nn = NeuralNetLogReg([2,4,2])\n",
    "nn.train(X,T)\n",
    "Y = nn.use(X)\n",
    "print(T, Y)"
   ]
  },
  {
   "cell_type": "code",
   "execution_count": 34,
   "metadata": {
    "collapsed": true
   },
   "outputs": [],
   "source": [
    "def CrossValidate(X, T, modelClass, parameters=None):\n",
    "    K = 5 \n",
    "    finalRecords = []\n",
    "    XP = np.array_split(X,K)\n",
    "    TP = np.array_split(T,K)\n",
    "    bestParameter = None\n",
    "    \n",
    "    for test in range(K): \n",
    "        records = []\n",
    "        Xtest = XP[test]\n",
    "        Ttest = TP[test]\n",
    "        \n",
    "        if parameters is None:\n",
    "            bestModel = modelClass()\n",
    "        else:\n",
    "            for val in range(K): \n",
    "                if test == val:\n",
    "                    continue\n",
    "\n",
    "                Xval = XP[val]\n",
    "                Tval = TP[val]\n",
    "\n",
    "                Xtrain = np.concatenate([x for i,x in enumerate(XP) if i!=val and i!=test])\n",
    "                Ttrain = np.concatenate([x for i,x in enumerate(TP) if i!=val and i!=test])\n",
    "\n",
    "                for param in parameters:\n",
    "                    model = modelClass(param)\n",
    "                    model.train(Xtrain,Ttrain)\n",
    "                    pred,_ = model.use(Xval)\n",
    "                    valAcc = accuracy(pred,Tval)\n",
    "                    records.append((valAcc,param))\n",
    "                    \n",
    "            records = np.array(pd.DataFrame(records))\n",
    "            bestParameter = records[np.argmax(records[:,0])][1]\n",
    "            bestModel = modelClass(bestParameter)\n",
    "        \n",
    "        Xtrain = np.concatenate([x for i,x in enumerate(XP) if i!=test])\n",
    "        Ttrain = np.concatenate([x for i,x in enumerate(TP) if i!=test])\n",
    "        \n",
    "        bestModel.train(Xtrain,Ttrain)\n",
    "        finalPred,_ = bestModel.use(Xtest)\n",
    "        finalAcc = accuracy(finalPred, Ttest)\n",
    "        finalRecords.append((finalAcc,bestParameter))\n",
    "    \n",
    "    return np.array(pd.DataFrame(finalRecords))"
   ]
  },
  {
   "cell_type": "code",
   "execution_count": 35,
   "metadata": {
    "collapsed": true
   },
   "outputs": [],
   "source": [
    "def confusion_matrix(Y, T):\n",
    "    if len(Y) != len(T):\n",
    "        raise ValueError(\"Wrong prediction and target length!\")\n",
    "    \n",
    "    classes = np.unique(T)\n",
    "    n_classes = len(classes)\n",
    "    \n",
    "    cfm = pd.DataFrame(np.zeros((n_classes, n_classes)), index=classes, columns=classes, dtype=int)\n",
    "    \n",
    "    Tidx = [T == c for c in classes]\n",
    "    for c in classes:\n",
    "        pred_idx = Y == c\n",
    "        cfm.loc[c, :] = [np.sum(np.logical_and(pred_idx, tidx)) for tidx in Tidx]\n",
    "    \n",
    "    return cfm\n",
    "\n",
    "def Precision(cfm):\n",
    "    cfm = cfm.as_matrix()\n",
    "    return cfm[1, 1] / (cfm[1, 1] + cfm[1, 0])\n",
    "\n",
    "def Recall(cfm):\n",
    "    cfm = cfm.as_matrix()\n",
    "    return cfm[1,1]/(cfm[1,1]+cfm[0,1])\n",
    "\n",
    "def Specificity(cfm):\n",
    "    cfm = cfm.as_matrix()\n",
    "    return cfm[0,0]/(cfm[0,0]+cfm[1,0])\n",
    "\n",
    "def accuracy(Y,T):\n",
    "    return np.sum(Y == T)/len(Y)\n",
    "\n",
    "def BestPlot(cv,best):\n",
    "    display(pd.DataFrame(np.vstack((cv,best)),index=[\"0\",\"1\",\"2\",\"3\",\"4\",\"Best\"],columns=[\"Accuracy\",\"Parameters\"]))\n",
    "\n",
    "def Predictions(Y,T):\n",
    "    fig = plt.figure()\n",
    "    ax = fig.add_subplot(1,1,1)\n",
    "    ax.plot(T, '.', color='b', label='Real') \n",
    "    ax.plot(Y, '.', color='r', label='Predicted')\n",
    "    ax.set_xlabel('Index')\n",
    "    handles, labels = ax.get_legend_handles_labels()\n",
    "    ax.legend(handles, labels)\n",
    "    plt.show()\n",
    "    \n",
    "def BestPlotStats(Y,T):\n",
    "    cfm = confusion_matrix(Y,T)\n",
    "    stats = [accuracy(Y,T),Precision(cfm),Recall(cfm),Specificity(cfm)]\n",
    "    display(pd.DataFrame(stats,index=[\"Accuracy\",\"Precision\",\"Recall\",\"Specificity\"],columns=[\"Stats\"]))\n",
    "    Predictions(Y,T)\n",
    "    return stats\n"
   ]
  },
  {
   "cell_type": "markdown",
   "metadata": {},
   "source": [
    "### NonLinear Logistic Regression"
   ]
  },
  {
   "cell_type": "code",
   "execution_count": 36,
   "metadata": {
    "collapsed": true
   },
   "outputs": [],
   "source": [
    "import numpy as np\n",
    "import abc\n",
    "\n",
    "class LinearModel:\n",
    "    def __init__(self):\n",
    "        self.w = None\n",
    "\n",
    "    def _check_matrix(self, mat, name):\n",
    "        if len(mat.shape) != 2:\n",
    "            raise ValueError(''.join([\"Wrong matrix \", name]))\n",
    "        \n",
    "    def add_ones(self, X):\n",
    "        self._check_matrix(X, 'X')\n",
    "        return np.hstack((np.ones((X.shape[0], 1)), X))\n",
    "\n",
    "    @abc.abstractmethod\n",
    "    def train(self, X, T):\n",
    "        pass\n",
    "    \n",
    "    @abc.abstractmethod\n",
    "    def use(self, X):\n",
    "        pass \n",
    "\n",
    "class LinearRegress(LinearModel): \n",
    "   \n",
    "    def __init__(self):\n",
    "        LinearModel.__init__(self)\n",
    "        \n",
    "    def train(self, X, T):\n",
    "        X1 = self.add_ones(X)\n",
    "        self.w = np.linalg.lstsq(X1.T @ X1, X1.T @ T)[0]\n",
    "    \n",
    "    def use(self, X):\n",
    "        Y = self.add_ones(X) @ self.w\n",
    "        return Y"
   ]
  },
  {
   "cell_type": "markdown",
   "metadata": {},
   "source": [
    "# IV - Results\n",
    "\n",
    "I have taken the classifier algorithms such as Pocket Algorithm, QDA, LDA,logistic regression and compared it with the Non Linear Logistic Regression and Neural Networks. From the visualization, the highest accuracy is Logistic Regression and LDA. The values of Neural Network and Non linear logistic regression model is varying but both have a maximum accuracy of 61 percent. QDA has worst performance with accuracy of 35 percent only. I think the Nueral networks and linear regression have the same level of performance on my dataset. When comparing with other performance measures such as precision,recall and specificity Neural Netrworks and Linear Regression work the best. The accuracy can be increased by taking more number of rows from the dataset. I have taken only 5000 rows so as to decrease the execution time."
   ]
  },
  {
   "cell_type": "code",
   "execution_count": 37,
   "metadata": {},
   "outputs": [
    {
     "name": "stdout",
     "output_type": "stream",
     "text": [
      "Cross Validation:\n"
     ]
    },
    {
     "name": "stderr",
     "output_type": "stream",
     "text": [
      "C:\\Users\\isara\\Downloads\\Assignment 4\\util.py:19: RuntimeWarning: invalid value encountered in true_divide\n",
      "  return (X - self._mu) / self._sigma\n",
      "C:\\Users\\isara\\Downloads\\Assignment 4\\util.py:19: RuntimeWarning: divide by zero encountered in true_divide\n",
      "  return (X - self._mu) / self._sigma\n",
      "C:\\Users\\isara\\Anaconda3\\lib\\site-packages\\ipykernel_launcher.py:30: DeprecationWarning: elementwise == comparison failed; this will raise an error in the future.\n",
      "C:\\Users\\isara\\Anaconda3\\lib\\site-packages\\ipykernel_launcher.py:30: RuntimeWarning: invalid value encountered in long_scalars\n",
      "C:\\Users\\isara\\Anaconda3\\lib\\site-packages\\ipykernel_launcher.py:11: RuntimeWarning: invalid value encountered in true_divide\n",
      "  # This is added back by InteractiveShellApp.init_path()\n",
      "C:\\Users\\isara\\Anaconda3\\lib\\site-packages\\ipykernel_launcher.py:11: RuntimeWarning: overflow encountered in exp\n",
      "  # This is added back by InteractiveShellApp.init_path()\n",
      "C:\\Users\\isara\\Anaconda3\\lib\\site-packages\\ipykernel_launcher.py:20: RuntimeWarning: divide by zero encountered in log\n"
     ]
    },
    {
     "data": {
      "text/html": [
       "<div>\n",
       "<style>\n",
       "    .dataframe thead tr:only-child th {\n",
       "        text-align: right;\n",
       "    }\n",
       "\n",
       "    .dataframe thead th {\n",
       "        text-align: left;\n",
       "    }\n",
       "\n",
       "    .dataframe tbody tr th {\n",
       "        vertical-align: top;\n",
       "    }\n",
       "</style>\n",
       "<table border=\"1\" class=\"dataframe\">\n",
       "  <thead>\n",
       "    <tr style=\"text-align: right;\">\n",
       "      <th></th>\n",
       "      <th>Accuracy</th>\n",
       "      <th>Parameters</th>\n",
       "    </tr>\n",
       "  </thead>\n",
       "  <tbody>\n",
       "    <tr>\n",
       "      <th>0</th>\n",
       "      <td>0</td>\n",
       "      <td>[2, 2]</td>\n",
       "    </tr>\n",
       "    <tr>\n",
       "      <th>1</th>\n",
       "      <td>0</td>\n",
       "      <td>[2, 2]</td>\n",
       "    </tr>\n",
       "    <tr>\n",
       "      <th>2</th>\n",
       "      <td>2</td>\n",
       "      <td>[2, 2]</td>\n",
       "    </tr>\n",
       "    <tr>\n",
       "      <th>3</th>\n",
       "      <td>NaN</td>\n",
       "      <td>[2, 4, 2]</td>\n",
       "    </tr>\n",
       "    <tr>\n",
       "      <th>4</th>\n",
       "      <td>NaN</td>\n",
       "      <td>[2, 4, 2]</td>\n",
       "    </tr>\n",
       "    <tr>\n",
       "      <th>Best</th>\n",
       "      <td>2</td>\n",
       "      <td>[2, 2]</td>\n",
       "    </tr>\n",
       "  </tbody>\n",
       "</table>\n",
       "</div>"
      ],
      "text/plain": [
       "     Accuracy Parameters\n",
       "0           0     [2, 2]\n",
       "1           0     [2, 2]\n",
       "2           2     [2, 2]\n",
       "3         NaN  [2, 4, 2]\n",
       "4         NaN  [2, 4, 2]\n",
       "Best        2     [2, 2]"
      ]
     },
     "metadata": {},
     "output_type": "display_data"
    },
    {
     "data": {
      "text/html": [
       "<div>\n",
       "<style>\n",
       "    .dataframe thead tr:only-child th {\n",
       "        text-align: right;\n",
       "    }\n",
       "\n",
       "    .dataframe thead th {\n",
       "        text-align: left;\n",
       "    }\n",
       "\n",
       "    .dataframe tbody tr th {\n",
       "        vertical-align: top;\n",
       "    }\n",
       "</style>\n",
       "<table border=\"1\" class=\"dataframe\">\n",
       "  <thead>\n",
       "    <tr style=\"text-align: right;\">\n",
       "      <th></th>\n",
       "      <th>Stats</th>\n",
       "    </tr>\n",
       "  </thead>\n",
       "  <tbody>\n",
       "    <tr>\n",
       "      <th>Accuracy</th>\n",
       "      <td>0.602254</td>\n",
       "    </tr>\n",
       "    <tr>\n",
       "      <th>Precision</th>\n",
       "      <td>0.580284</td>\n",
       "    </tr>\n",
       "    <tr>\n",
       "      <th>Recall</th>\n",
       "      <td>0.354633</td>\n",
       "    </tr>\n",
       "    <tr>\n",
       "      <th>Specificity</th>\n",
       "      <td>0.797623</td>\n",
       "    </tr>\n",
       "  </tbody>\n",
       "</table>\n",
       "</div>"
      ],
      "text/plain": [
       "                Stats\n",
       "Accuracy     0.602254\n",
       "Precision    0.580284\n",
       "Recall       0.354633\n",
       "Specificity  0.797623"
      ]
     },
     "metadata": {},
     "output_type": "display_data"
    },
    {
     "data": {
      "image/png": "[encoded data removed]",
      "text/plain": [
       "<matplotlib.figure.Figure at 0x2aa677fcef0>"
      ]
     },
     "metadata": {},
     "output_type": "display_data"
    },
    {
     "name": "stdout",
     "output_type": "stream",
     "text": [
      "Linear Regression:\n"
     ]
    },
    {
     "data": {
      "text/html": [
       "<div>\n",
       "<style>\n",
       "    .dataframe thead tr:only-child th {\n",
       "        text-align: right;\n",
       "    }\n",
       "\n",
       "    .dataframe thead th {\n",
       "        text-align: left;\n",
       "    }\n",
       "\n",
       "    .dataframe tbody tr th {\n",
       "        vertical-align: top;\n",
       "    }\n",
       "</style>\n",
       "<table border=\"1\" class=\"dataframe\">\n",
       "  <thead>\n",
       "    <tr style=\"text-align: right;\">\n",
       "      <th></th>\n",
       "      <th>Stats</th>\n",
       "    </tr>\n",
       "  </thead>\n",
       "  <tbody>\n",
       "    <tr>\n",
       "      <th>Accuracy</th>\n",
       "      <td>0.606683</td>\n",
       "    </tr>\n",
       "    <tr>\n",
       "      <th>Precision</th>\n",
       "      <td>0.594422</td>\n",
       "    </tr>\n",
       "    <tr>\n",
       "      <th>Recall</th>\n",
       "      <td>0.340484</td>\n",
       "    </tr>\n",
       "    <tr>\n",
       "      <th>Specificity</th>\n",
       "      <td>0.816709</td>\n",
       "    </tr>\n",
       "  </tbody>\n",
       "</table>\n",
       "</div>"
      ],
      "text/plain": [
       "                Stats\n",
       "Accuracy     0.606683\n",
       "Precision    0.594422\n",
       "Recall       0.340484\n",
       "Specificity  0.816709"
      ]
     },
     "metadata": {},
     "output_type": "display_data"
    },
    {
     "data": {
      "image/png": "[encoded data removed]",
      "text/plain": [
       "<matplotlib.figure.Figure at 0x2aa687fe860>"
      ]
     },
     "metadata": {},
     "output_type": "display_data"
    }
   ],
   "source": [
    "NFeatures = X.shape[1] \n",
    "NClass = len(np.unique(T)) \n",
    "layers = [[NFeatures,NClass], \n",
    "          [NFeatures,4,NClass],\n",
    "          [NFeatures,16,NClass],\n",
    "          [NFeatures,16,16,NClass]]\n",
    "\n",
    "print(\"Cross Validation:\")\n",
    "NNLinRegCV= CrossValidate(X,T,NeuralNetLogReg, layers)\n",
    "BestNNLinRegCV = NNLinRegCV[np.argmax(NNLinRegCV[:,0])]\n",
    "BestPlot(NNLinRegCV,BestNNLinRegCV)\n",
    "\n",
    "NNLinReg = NeuralNetLogReg(BestNNLinRegCV[1])\n",
    "NNLinReg.train(XX,TT)\n",
    "Y,_ = NNLinReg.use(XX)\n",
    "NNLinearStats = BestPlotStats(Y,TT)\n",
    "\n",
    "print(\"Linear Regression:\")\n",
    "LinReg = LinearRegress()\n",
    "LinReg.train(XX,TT)\n",
    "Y = np.round(LinReg.use(XX))\n",
    "LinRegStats = BestPlotStats(Y,TT)"
   ]
  },
  {
   "cell_type": "code",
   "execution_count": 38,
   "metadata": {},
   "outputs": [
    {
     "data": {
      "image/png": "[encoded data removed]",
      "text/plain": [
       "<matplotlib.figure.Figure at 0x2aa68a98048>"
      ]
     },
     "metadata": {},
     "output_type": "display_data"
    }
   ],
   "source": [
    "Labels = [(\"Accuracy\",'r'),(\"Precision\",'g'),(\"Recall\",'b'),(\"Specificity\",'c')]\n",
    "PerceptionStats = [ 0.5,float('nan'),  1.0, 0.0 ]\n",
    "QDAStats =  [ 0.35,  0.35,  0.00,  0.00]\n",
    "LDAStats =  [ 0.65,  0.00,  1.00,  0.00]\n",
    "LogRegressStats = [ 0.65,  0.00,  1.00,  0.00]\n",
    "\n",
    "New_UsDeaths_DataStats = np.array([NNLinearStats,LinRegStats,PerceptionStats,QDAStats,LDAStats,LogRegressStats])\n",
    "\n",
    "fig, ax = plt.subplots()\n",
    "index = np.arange(New_UsDeaths_DataStats.shape[0])\n",
    "bar_width = 0.15\n",
    "for c in range(New_UsDeaths_DataStats.shape[1]):\n",
    "    plt.bar(index+bar_width*c, New_UsDeaths_DataStats[:,c], bar_width,label=Labels[c][0])\n",
    "plt.xlabel('Model')\n",
    "plt.ylabel('Percent(%)')\n",
    "plt.xticks(index + bar_width, ('LRNN','LinReg','Perception', 'QDA', 'LDA', 'LogRegress'))\n",
    "plt.legend(bbox_to_anchor=(1.05, 1), loc=2, borderaxespad=0.)\n",
    "plt.show()"
   ]
  },
  {
   "cell_type": "markdown",
   "metadata": {},
   "source": [
    "# Conclusions\n",
    "\n",
    "It was difficult for me to understand the Neural Networks in the initial stages as it involves a lot of Mathematical computations. Also, understanding grad.py and nn.py was a little bit difficult. I always find it difficult to work with shapes and tend to spend a lot of time on it."
   ]
  },
  {
   "cell_type": "markdown",
   "metadata": {},
   "source": [
    "# Extra Credit\n",
    "\n",
    "One extra credit is assigned when finish the following bullets. \n",
    "\n",
    "- Try nonlinear regression with neural networks and compare with linear regression model \n",
    "- Use cross validation to discover the best model and compare models. "
   ]
  },
  {
   "cell_type": "markdown",
   "metadata": {},
   "source": [
    "# TO START\n",
    "\n",
    "- download [a4.tgz](http://webpages.uncc.edu/mlee173/teach/itcs4156/notebooks/assign/a4.tgz). \n",
    "- import the necessary classes or functions including NeuralNet.\n",
    "- inherit NeuralNet and make NeuralNetLogReg"
   ]
  },
  {
   "cell_type": "markdown",
   "metadata": {},
   "source": [
    "## Grading\n",
    "\n",
    "DO NOT forget to submit your data! Your notebook is supposed to run fine after running your codes. \n",
    "\n",
    "\n",
    "points | | description\n",
    "--|--|:--\n",
    "5 | Overview| states the objective and the appraoch \n",
    "10 | Data | \n",
    " | 2| Includes description of your data\n",
    " | 3| Plots to visualize data \n",
    " | 5| Reading and analyzing the plots \n",
    "45 | Methods | \n",
    " | 5| Summary of Neural Networks\n",
    " | 5| Summary of Nonlinear Logistic Regression\n",
    " | 5| Explanation of codes\n",
    " |10| Examination of correct implementation with preliminary test with *explanation (5 pts)*\n",
    " |20| Cross validation codes and explanation \n",
    "35 | Results | Your Data\n",
    "| 20| plots for results (10 pts for each classifier)\n",
    "| 5| Discussions about parameter/network structure choice \n",
    "| 5| Discussions about classificaion model comparison\n",
    "| 5| Discussion about the classification results. Try to analyze what nonlinear logistic regression learned. \n",
    "5 | Conclusions \n"
   ]
  }
 ],
 "metadata": {
  "kernelspec": {
   "display_name": "Python 3",
   "language": "python",
   "name": "python3"
  },
  "language_info": {
   "codemirror_mode": {
    "name": "ipython",
    "version": 3
   },
   "file_extension": ".py",
   "mimetype": "text/x-python",
   "name": "python",
   "nbconvert_exporter": "python",
   "pygments_lexer": "ipython3",
   "version": "3.6.3"
  }
 },
 "nbformat": 4,
 "nbformat_minor": 2
}
