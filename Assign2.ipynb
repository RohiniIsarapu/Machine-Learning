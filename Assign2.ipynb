{
 "cells": [
  {
   "cell_type": "markdown",
   "metadata": {},
   "source": [
    "# Assignment #2 - Classification\n",
    "\n",
    "<font color=\"red\"> <b> Due: Feb 26 (Monday) 11:00 pm </b> </font>"
   ]
  },
  {
   "cell_type": "markdown",
   "metadata": {},
   "source": [
    "Rohini Isarapu"
   ]
  },
  {
   "cell_type": "markdown",
   "metadata": {},
   "source": [
    "# I. Introduction\n",
    "\n",
    "The objective of the assignment is to implement Classification on the data set by using pocket algorithm,QDA(Quantitative Discriminant Analysis),LDA(Linear Discriminant Analysis) and Logistic regression.\n",
    "\n",
    "The Pocket Algorithm and Logistic Regression require a alpha value for training the data set and a limited number of iterations. While QDA and LDA do not require either of those values."
   ]
  },
  {
   "cell_type": "markdown",
   "metadata": {},
   "source": [
    "# II. Data\n",
    "\n",
    "The dataset “Deaths in United States” consists of a CSV file with 30 features and about 27 lakh rows. It consists of all the deaths which occurred in the year 2015 across United States with a precise information about the details of the death and statistical background of the departed. We can analyze the circumstances and how the death in U.S is different from other countries. The death reports are accurate as it is released by CDC (Centers for disease control and prevention) under the National Vital Statistics System.\n",
    "\n",
    "Some of the important columns include:\n",
    "\n",
    "•\tMonth_of_death\n",
    "\n",
    "•\tSex\n",
    "\n",
    "•\tPlace of death\n",
    "\n",
    "•\tMarital Status\n",
    "\n",
    "•\tManner of death\n",
    "\n",
    "•\tMethod of Disposition\n",
    "\n",
    "The attribute values consist of numeric as well as strings."
   ]
  },
  {
   "cell_type": "markdown",
   "metadata": {},
   "source": [
    "# Preliminary Observation with respect to Visualization\n",
    "\n",
    "I want to classify the deaths based on the gender(Male and Female) which is my dependent variable. The input features would be the manner of the death and age. The accuracy is decreasing while I am including other features of the data.\n",
    "\n",
    "The women death rate is higher when the manner of death are as follows:\n",
    "1) Death reason not known\n",
    "2) Accident\n",
    "3) Natural\n",
    "\n",
    "The Men death rate is higher when the manner of death are as follows:\n",
    "1)Suicide\n",
    "2)Homicide\n",
    "3)Self-inflicted\n",
    "\n",
    "All the deaths occurred when the average age was 20 years."
   ]
  },
  {
   "cell_type": "markdown",
   "metadata": {},
   "source": [
    "# Data Preprocessing\n",
    "\n",
    "Removed few columns as it the information was repetitive and I found no significance in regards with the analyzation of the deaths based on gender.\n",
    "\n",
    "Encoded zeros and ones for Male and Female.\n",
    "0: Male\n",
    "1: Female\n",
    "\n",
    "Encoded the values of the column \"manner_of_death\" as follows:\n",
    "1:Accident\n",
    "2:Suicide\n",
    "3:Homicide\n",
    "4:Pending investigation\n",
    "5:Could not determine\n",
    "6:Self-Inflicted\n",
    "7:Natural\n",
    "0:Not specified\n",
    "\n",
    "The column \"manner_of_death\" had missing values. Replaced all the missing values with zeros.\n",
    "\n",
    "Eliminated the rows where the age is greater than 100.\n",
    "\n"
   ]
  },
  {
   "cell_type": "code",
   "execution_count": 54,
   "metadata": {
    "collapsed": true
   },
   "outputs": [],
   "source": [
    "import numpy as np\n",
    "import pandas as pd\n",
    "import seaborn as sns\n",
    "from scipy import stats\n",
    "from sklearn.model_selection import train_test_split\n",
    "from pandas.tools import plotting\n",
    "import matplotlib.pyplot as plt\n",
    "from IPython.core.debugger import Tracer\n",
    "from copy import deepcopy as copy \n",
    "%matplotlib inline"
   ]
  },
  {
   "cell_type": "code",
   "execution_count": 55,
   "metadata": {
    "collapsed": true
   },
   "outputs": [],
   "source": [
    "UsDeaths=pd.read_csv(\"C:/Users/isara/Documents/2015_data.csv\",engine='python',nrows=10000)"
   ]
  },
  {
   "cell_type": "code",
   "execution_count": 56,
   "metadata": {},
   "outputs": [
    {
     "name": "stdout",
     "output_type": "stream",
     "text": [
      "      resident_status  month_of_death sex  detail_age  age_recode_12  \\\n",
      "0                   1               1   M          84             10   \n",
      "1                   1               1   M          70              9   \n",
      "2                   1               1   F          91             11   \n",
      "3                   1               1   F          40              6   \n",
      "4                   1               1   F          89             11   \n",
      "5                   1               1   M          78             10   \n",
      "6                   1               1   M          92             11   \n",
      "7                   1               1   M          82             10   \n",
      "8                   1               1   F          89             11   \n",
      "9                   1               1   F          93             11   \n",
      "10                  1               1   F          84             10   \n",
      "11                  1               1   F          84             10   \n",
      "12                  1               1   F          67              9   \n",
      "13                  1               1   M          94             11   \n",
      "14                  1               1   M          56              8   \n",
      "15                  1               1   M          32              5   \n",
      "16                  1               1   M          18              4   \n",
      "17                  1               1   M          48              7   \n",
      "18                  1               1   F          79             10   \n",
      "19                  1               1   M          85             11   \n",
      "20                  1               1   F          61              8   \n",
      "21                  1               1   M          56              8   \n",
      "22                  1               1   M          72              9   \n",
      "23                  1               1   F          86             11   \n",
      "24                  1               1   M          98             11   \n",
      "25                  1               1   F          66              9   \n",
      "26                  1               1   F          62              8   \n",
      "27                  1               1   F          82             10   \n",
      "28                  1               1   M          60              8   \n",
      "29                  1               1   F          43              6   \n",
      "...               ...             ...  ..         ...            ...   \n",
      "9970                2               1   M          53              7   \n",
      "9971                1               1   M          88             11   \n",
      "9972                1               1   M          83             10   \n",
      "9973                1               1   M          71              9   \n",
      "9974                1               2   M          76             10   \n",
      "9975                1               1   M          81             10   \n",
      "9976                1               1   F          64              8   \n",
      "9977                2               1   F          67              9   \n",
      "9978                2               1   M          72              9   \n",
      "9979                2               1   F          76             10   \n",
      "9980                1               1   F          53              7   \n",
      "9981                2               1   F          96             11   \n",
      "9982                1               1   F          33              5   \n",
      "9983                1               1   M          72              9   \n",
      "9984                1               2   F          64              8   \n",
      "9985                1               2   F          74              9   \n",
      "9986                1               2   M          51              7   \n",
      "9987                1               2   F          81             10   \n",
      "9988                1               2   M          59              8   \n",
      "9989                1               2   F          50              7   \n",
      "9990                2               2   M          78             10   \n",
      "9991                1               2   F          65              9   \n",
      "9992                1               2   M          79             10   \n",
      "9993                1               2   M          96             11   \n",
      "9994                1               2   F          82             10   \n",
      "9995                1               2   F          78             10   \n",
      "9996                1               2   M          64              8   \n",
      "9997                2               2   M          77             10   \n",
      "9998                1               2   F          54              7   \n",
      "9999                1               2   M          86             11   \n",
      "\n",
      "      place_of_death_and_decedents_status marital_status  \\\n",
      "0                                       1              M   \n",
      "1                                       1              M   \n",
      "2                                       4              W   \n",
      "3                                       4              S   \n",
      "4                                       6              W   \n",
      "5                                       4              W   \n",
      "6                                       4              W   \n",
      "7                                       4              M   \n",
      "8                                       4              W   \n",
      "9                                       6              W   \n",
      "10                                      6              M   \n",
      "11                                      6              M   \n",
      "12                                      1              M   \n",
      "13                                      6              W   \n",
      "14                                      6              M   \n",
      "15                                      1              S   \n",
      "16                                      7              S   \n",
      "17                                      4              M   \n",
      "18                                      6              W   \n",
      "19                                      6              W   \n",
      "20                                      4              M   \n",
      "21                                      4              S   \n",
      "22                                      1              M   \n",
      "23                                      4              W   \n",
      "24                                      1              W   \n",
      "25                                      6              M   \n",
      "26                                      1              D   \n",
      "27                                      2              W   \n",
      "28                                      4              M   \n",
      "29                                      1              M   \n",
      "...                                   ...            ...   \n",
      "9970                                    1              M   \n",
      "9971                                    1              W   \n",
      "9972                                    1              M   \n",
      "9973                                    1              M   \n",
      "9974                                    1              S   \n",
      "9975                                    1              M   \n",
      "9976                                    1              S   \n",
      "9977                                    1              D   \n",
      "9978                                    1              M   \n",
      "9979                                    1              W   \n",
      "9980                                    7              D   \n",
      "9981                                    6              D   \n",
      "9982                                    1              S   \n",
      "9983                                    1              M   \n",
      "9984                                    4              D   \n",
      "9985                                    4              M   \n",
      "9986                                    1              S   \n",
      "9987                                    1              D   \n",
      "9988                                    1              M   \n",
      "9989                                    4              M   \n",
      "9990                                    1              M   \n",
      "9991                                    4              M   \n",
      "9992                                    4              M   \n",
      "9993                                    7              W   \n",
      "9994                                    2              D   \n",
      "9995                                    4              W   \n",
      "9996                                    1              M   \n",
      "9997                                    1              M   \n",
      "9998                                    4              S   \n",
      "9999                                    1              M   \n",
      "\n",
      "      day_of_week_of_death injury_at_work  manner_of_death  \\\n",
      "0                        1              U              7.0   \n",
      "1                        2              U              7.0   \n",
      "2                        6              U              7.0   \n",
      "3                        5              N              3.0   \n",
      "4                        5              U              7.0   \n",
      "5                        6              U              7.0   \n",
      "6                        1              U              7.0   \n",
      "7                        1              U              7.0   \n",
      "8                        1              U              7.0   \n",
      "9                        7              U              7.0   \n",
      "10                       1              U              7.0   \n",
      "11                       1              U              7.0   \n",
      "12                       2              U              7.0   \n",
      "13                       7              U              7.0   \n",
      "14                       7              U              7.0   \n",
      "15                       6              N              1.0   \n",
      "16                       1              N              2.0   \n",
      "17                       7              N              2.0   \n",
      "18                       5              U              7.0   \n",
      "19                       6              U              7.0   \n",
      "20                       7              U              7.0   \n",
      "21                       1              U              7.0   \n",
      "22                       5              U              7.0   \n",
      "23                       1              U              7.0   \n",
      "24                       6              U              7.0   \n",
      "25                       6              U              7.0   \n",
      "26                       5              U              7.0   \n",
      "27                       7              U              7.0   \n",
      "28                       7              U              7.0   \n",
      "29                       5              U              7.0   \n",
      "...                    ...            ...              ...   \n",
      "9970                     5              U              7.0   \n",
      "9971                     6              U              7.0   \n",
      "9972                     5              U              7.0   \n",
      "9973                     4              U              7.0   \n",
      "9974                     3              U              7.0   \n",
      "9975                     7              U              NaN   \n",
      "9976                     4              U              7.0   \n",
      "9977                     3              U              7.0   \n",
      "9978                     7              U              7.0   \n",
      "9979                     6              U              7.0   \n",
      "9980                     3              U              7.0   \n",
      "9981                     4              U              7.0   \n",
      "9982                     3              U              7.0   \n",
      "9983                     5              U              7.0   \n",
      "9984                     2              U              7.0   \n",
      "9985                     3              U              7.0   \n",
      "9986                     7              U              7.0   \n",
      "9987                     2              U              7.0   \n",
      "9988                     1              U              NaN   \n",
      "9989                     1              U              7.0   \n",
      "9990                     4              U              7.0   \n",
      "9991                     4              U              7.0   \n",
      "9992                     1              U              7.0   \n",
      "9993                     2              U              NaN   \n",
      "9994                     7              U              7.0   \n",
      "9995                     4              U              7.0   \n",
      "9996                     6              U              7.0   \n",
      "9997                     7              N              1.0   \n",
      "9998                     2              U              7.0   \n",
      "9999                     3              U              7.0   \n",
      "\n",
      "     method_of_disposition autopsy  race_recode_5  hispanic_originrace_recode  \n",
      "0                        B       N              1                           6  \n",
      "1                        C       N              1                           6  \n",
      "2                        C       N              1                           6  \n",
      "3                        B       Y              3                           8  \n",
      "4                        C       N              1                           6  \n",
      "5                        C       N              3                           8  \n",
      "6                        R       N              1                           6  \n",
      "7                        C       N              1                           6  \n",
      "8                        B       N              1                           6  \n",
      "9                        C       N              1                           6  \n",
      "10                       B       N              1                           6  \n",
      "11                       C       N              1                           6  \n",
      "12                       C       N              1                           6  \n",
      "13                       C       N              1                           6  \n",
      "14                       C       N              1                           6  \n",
      "15                       B       N              3                           8  \n",
      "16                       B       N              3                           8  \n",
      "17                       C       N              1                           6  \n",
      "18                       C       N              3                           8  \n",
      "19                       C       N              1                           6  \n",
      "20                       R       N              1                           6  \n",
      "21                       C       N              3                           8  \n",
      "22                       C       N              1                           6  \n",
      "23                       C       N              1                           6  \n",
      "24                       C       N              4                           8  \n",
      "25                       C       N              3                           8  \n",
      "26                       B       N              3                           8  \n",
      "27                       B       N              3                           8  \n",
      "28                       C       N              1                           6  \n",
      "29                       C       N              1                           6  \n",
      "...                    ...     ...            ...                         ...  \n",
      "9970                     U       N              1                           6  \n",
      "9971                     U       N              1                           6  \n",
      "9972                     U       N              1                           6  \n",
      "9973                     U       N              1                           6  \n",
      "9974                     U       N              2                           7  \n",
      "9975                     U       N              1                           6  \n",
      "9976                     U       N              1                           6  \n",
      "9977                     U       U              1                           6  \n",
      "9978                     U       N              1                           6  \n",
      "9979                     U       N              1                           6  \n",
      "9980                     U       N              2                           7  \n",
      "9981                     U       N              1                           6  \n",
      "9982                     U       N              2                           7  \n",
      "9983                     U       N              1                           6  \n",
      "9984                     U       N              2                           7  \n",
      "9985                     U       N              1                           6  \n",
      "9986                     U       N              1                           6  \n",
      "9987                     U       U              1                           6  \n",
      "9988                     U       U              2                           7  \n",
      "9989                     U       U              1                           6  \n",
      "9990                     U       N              1                           6  \n",
      "9991                     U       N              1                           6  \n",
      "9992                     U       N              1                           6  \n",
      "9993                     U       U              1                           6  \n",
      "9994                     U       N              1                           6  \n",
      "9995                     U       U              2                           7  \n",
      "9996                     U       N              1                           6  \n",
      "9997                     U       N              1                           6  \n",
      "9998                     U       U              1                           6  \n",
      "9999                     U       N              1                           6  \n",
      "\n",
      "[9916 rows x 14 columns]\n"
     ]
    },
    {
     "name": "stderr",
     "output_type": "stream",
     "text": [
      "C:\\Users\\isara\\Anaconda3\\lib\\site-packages\\ipykernel_launcher.py:13: UserWarning: Boolean Series key will be reindexed to match DataFrame index.\n",
      "  del sys.path[0]\n"
     ]
    }
   ],
   "source": [
    "new_UsDeaths_Data=UsDeaths.drop(['education_1989_revision','education_2003_revision','education_reporting_flag','detail_age_type',\n",
    "                       'age_substitution_flag','age_recode_52','age_recode_27','infant_age_recode_22','current_data_year','activity_code',\n",
    "                       'icd_code_10th_revision','358_cause_recode','113_cause_recode','130_infant_cause_recode','39_cause_recode',\n",
    "                       'number_of_entity_axis_conditions','entity_condition_1','entity_condition_2','entity_condition_3','entity_condition_4',\n",
    "                       'entity_condition_5','entity_condition_6','entity_condition_7','entity_condition_8','entity_condition_9','entity_condition_10',\n",
    "            'entity_condition_11','entity_condition_12','entity_condition_13','entity_condition_14','entity_condition_15','entity_condition_16','entity_condition_17','entity_condition_18',\n",
    "                       'entity_condition_19','entity_condition_20','number_of_record_axis_conditions','record_condition_1',\n",
    "                       'record_condition_2','record_condition_3','record_condition_4','record_condition_5','record_condition_6',\n",
    "                       'record_condition_7','record_condition_8','record_condition_9','record_condition_10','record_condition_11','record_condition_12','record_condition_13',\n",
    "                       'record_condition_14','record_condition_15','record_condition_16','record_condition_17','record_condition_18','record_condition_19',\n",
    "                       'record_condition_20','race','bridged_race_flag','race_imputation_flag','race_recode_3','hispanic_origin','place_of_injury_for_causes_w00_y34_except_y06_and_y07_'],axis=1)\n",
    "\n",
    "new_UsDeaths_Data = new_UsDeaths_Data[new_UsDeaths_Data.detail_age < 100][new_UsDeaths_Data.day_of_week_of_death< 8]\n",
    "print(new_UsDeaths_Data)"
   ]
  },
  {
   "cell_type": "code",
   "execution_count": 57,
   "metadata": {},
   "outputs": [
    {
     "data": {
      "text/plain": [
       "resident_status                        False\n",
       "month_of_death                         False\n",
       "sex                                    False\n",
       "detail_age                             False\n",
       "age_recode_12                          False\n",
       "place_of_death_and_decedents_status    False\n",
       "marital_status                         False\n",
       "day_of_week_of_death                   False\n",
       "injury_at_work                         False\n",
       "manner_of_death                         True\n",
       "method_of_disposition                  False\n",
       "autopsy                                False\n",
       "race_recode_5                          False\n",
       "hispanic_originrace_recode             False\n",
       "dtype: bool"
      ]
     },
     "execution_count": 57,
     "metadata": {},
     "output_type": "execute_result"
    }
   ],
   "source": [
    "nans=new_UsDeaths_Data.isnull().any()\n",
    "nans"
   ]
  },
  {
   "cell_type": "code",
   "execution_count": 58,
   "metadata": {},
   "outputs": [
    {
     "data": {
      "text/plain": [
       "[Text(0,0,'1.0'),\n",
       " Text(0,0,'2.0'),\n",
       " Text(0,0,'3.0'),\n",
       " Text(0,0,'4.0'),\n",
       " Text(0,0,'5.0'),\n",
       " Text(0,0,'7.0')]"
      ]
     },
     "execution_count": 58,
     "metadata": {},
     "output_type": "execute_result"
    },
    {
     "data": {
      "image/png": "[encoded data removed]",
      "text/plain": [
       "<matplotlib.figure.Figure at 0x21b8afa5358>"
      ]
     },
     "metadata": {},
     "output_type": "display_data"
    }
   ],
   "source": [
    "plt.title('Manner Of Death vs Age vs Marital Status', fontsize=18)\n",
    "ax=sns.boxplot(x=\"manner_of_death\",y=\"detail_age\",hue=\"sex\",data=new_UsDeaths_Data)\n",
    "plt.legend(bbox_to_anchor=(1.05, 1), loc=2, borderaxespad=0.)\n",
    "ax.set_xticklabels(ax.get_xticklabels(),rotation=30)"
   ]
  },
  {
   "cell_type": "code",
   "execution_count": 59,
   "metadata": {
    "collapsed": true
   },
   "outputs": [],
   "source": [
    "new_UsDeaths_Data.sex=new_UsDeaths_Data.sex.replace({'M':0,'F':1})"
   ]
  },
  {
   "cell_type": "code",
   "execution_count": 60,
   "metadata": {
    "collapsed": true
   },
   "outputs": [],
   "source": [
    "new_UsDeaths_Data['manner_of_death']=new_UsDeaths_Data['manner_of_death'].fillna(0)"
   ]
  },
  {
   "cell_type": "code",
   "execution_count": 61,
   "metadata": {
    "collapsed": true
   },
   "outputs": [],
   "source": [
    "new_UsDeaths_Data['manner_of_death']=new_UsDeaths_Data['manner_of_death'].astype(np.int64)"
   ]
  },
  {
   "cell_type": "code",
   "execution_count": 62,
   "metadata": {
    "collapsed": true
   },
   "outputs": [],
   "source": [
    "X=np.array(new_UsDeaths_Data.loc[:,[\"manner_of_death\",\"detail_age\"]])\n",
    "T=np.array(new_UsDeaths_Data.loc[:,\"sex\",]).reshape(-1,1)"
   ]
  },
  {
   "cell_type": "markdown",
   "metadata": {},
   "source": [
    "# III. Method\n",
    "\n",
    "Super Class Definition:\n",
    "\n",
    "The class BaseModel has two abstract methods train as well as use which is implemented in all the algorithms to train the dataset as well to predict the outcome.\n",
    "\n",
    "The classifier is the super class for classification with the following functions defined:\n",
    "1)_init_: This is used for initialization purpose with Mean and Standard deviation initialized to None.\n",
    "2)normalize: In this function we normalize the input X. X is subtracted by mean and this is divided by the standard deviation.\n",
    "3)_check_matrix: This is used to check if the shape of the matrix are correct or not.\n",
    "4)add_ones:We add bias through this function\n",
    "\n",
    "The methods in the Base Model are implemented in the classifier class.\n",
    "\n",
    "\n",
    "Pocket Algorithm:\n",
    "\n",
    "The pocket algorithm keeps the best solution which is obtained from the weights after iterating over the data set. The more the iterations the more accurate the prediction. But this algorithm can be time consuming since only one neural network is present.\n",
    "The outcome in the compare function would be 1 or -1.The use method gives the predicted values where we perform the dot product of the normalized input feature X and w_pocket.\n",
    "\n",
    "LDA:\n",
    "\n",
    "For multi classification purpose LDA is used. It uses Linear discriminant function to determine the likelihood. The discriminant function uses Sigma,prior and mu.Unlike the pocket algorithm,there is no need to use alpha and iterate over the dataset.The mu, prior is calculated for each class of by assuming Sigma to be unique for all the classes.\n",
    "\n",
    "QDA:\n",
    "\n",
    "For multi classification purpose QDA is used. It uses Quadratic discriminant function to determine the likelihood. The discriminant function uses Sigma,prior and mu.Unlike the pocket algorithm,there is no need to use alpha and iterate over the dataset.The mu, prior,Sigma is calculated for each class.\n",
    "\n",
    "Logistic Regression:\n",
    "\n",
    "The logistic regression is a regression model in which the dependent variable is categorical value. The outcome is either 0 or 1.It directly predicts  P(T=k∣x)P(T=k∣x) , not the class label  k.The gradient update one column of the weight matrix, so that we can combine the computations.\n",
    "\n",
    "X:Input features\n",
    "T:Target value\n",
    "w:weight\n",
    "g():softmax function\n",
    "\n",
    "\n",
    "\n",
    "\n",
    "\n"
   ]
  },
  {
   "cell_type": "markdown",
   "metadata": {},
   "source": [
    "### A. Super Classs Definition"
   ]
  },
  {
   "cell_type": "code",
   "execution_count": 63,
   "metadata": {
    "collapsed": true
   },
   "outputs": [],
   "source": [
    "import numpy as np\n",
    "import abc\n",
    "from abc import ABC, abstractmethod\n",
    "\n",
    "# Super class for machine learning models \n",
    "\n",
    "class BaseModel(ABC):\n",
    "    \"\"\" Super class for ITCS Machine Learning Class\"\"\"\n",
    "    \n",
    "    @abstractmethod\n",
    "    def train(self, X, T):\n",
    "        pass\n",
    "\n",
    "    @abstractmethod\n",
    "    def use(self, X):\n",
    "        pass\n",
    "\n",
    "    \n",
    "\n",
    "class Classifier(BaseModel):\n",
    "    \"\"\"\n",
    "        Abstract class for classification \n",
    "        \n",
    "        Attributes\n",
    "        ==========\n",
    "        meanX       ndarray\n",
    "                    mean of inputs (from standardization)\n",
    "        stdX        ndarray\n",
    "                    standard deviation of inputs (standardization)\n",
    "    \"\"\"\n",
    "\n",
    "    def __init__(self, ):\n",
    "        self.meanX = None\n",
    "        self.stdX = None\n",
    "    \n",
    "    def normalize(self, X):\n",
    "        \"\"\" standardize the input X \"\"\"\n",
    "        \n",
    "        if not isinstance(X, np.ndarray):\n",
    "            X = np.asanyarray(X)\n",
    "\n",
    "        self.meanX = np.mean(X, 0)\n",
    "        self.stdX = np.std(X, 0)\n",
    "\n",
    "        # TODO: Finish this normalization\n",
    "        Xs = (X-self.meanX)/self.stdX\n",
    "        return Xs\n",
    "\n",
    "\n",
    "    def _check_matrix(self, mat, name):\n",
    "        if len(mat.shape) != 2:\n",
    "            raise ValueError(''.join([\"Wrong matrix \", name]))\n",
    "        \n",
    "    # add a basis\n",
    "    def add_ones(self, X):\n",
    "        \"\"\"\n",
    "            add a column basis to X input matrix\n",
    "        \"\"\"\n",
    "        self._check_matrix(X, 'X')\n",
    "        return np.hstack((np.ones((X.shape[0], 1)), X))\n",
    "\n",
    "    ####################################################\n",
    "    #### abstract funcitons ############################\n",
    "    @abc.abstractmethod\n",
    "    def train(self, X, T):\n",
    "        pass\n",
    "    \n",
    "    @abc.abstractmethod\n",
    "    def use(self, X):\n",
    "        pass "
   ]
  },
  {
   "cell_type": "markdown",
   "metadata": {},
   "source": [
    "### B. Pocket Algorithm\n"
   ]
  },
  {
   "cell_type": "code",
   "execution_count": 64,
   "metadata": {
    "collapsed": true
   },
   "outputs": [],
   "source": [
    "class perceptron(Classifier):\n",
    "    \n",
    "    def __init__(self,alpha ):\n",
    "        Classifier.__init__(self)\n",
    "        self.alpha=alpha\n",
    "        self.w=[]\n",
    "        self.w_pocket=[]\n",
    "        \n",
    "    def compare(self,X, T):\n",
    "        y = np.sign(X @ self.w)\n",
    "        yp = np.sign(X @ self.w_pocket)\n",
    "        return 1 if np.sum(y == T) >= np.sum(yp == T) else -1\n",
    "\n",
    "\n",
    "    \n",
    "    def train(self,X,T):\n",
    "        Xs = self.add_ones(self.normalize(X))\n",
    "        self.w=np.zeros(Xs.shape[1])\n",
    "        self.w_pocket=np.zeros(Xs.shape[1])\n",
    "        N=Xs.shape[0]\n",
    "        w_pocket = copy(self.w)\n",
    "        for i in range(100):\n",
    "            \n",
    "            converged = True\n",
    "            \n",
    "            for k in range(N):\n",
    "                \n",
    "                y = self.w @ Xs[k]\n",
    "                if np.sign(y) != np.sign(T[k]):\n",
    "                    self.w += self.alpha * T[k] * Xs[k]\n",
    "                    converged = False\n",
    "                    z=perceptron.compare(self,Xs,T)\n",
    "                    if (z>0):\n",
    "                        self.w_pocket=self.w\n",
    "            if converged:\n",
    "                print(\"converged at \", i)\n",
    "                break\n",
    "\n",
    "    def use(self,X):\n",
    "        Y = self.add_ones((X-self.meanX)/self.stdX) @ self.w_pocket.T\n",
    "        return Y\n",
    "    "
   ]
  },
  {
   "cell_type": "markdown",
   "metadata": {},
   "source": [
    "### B. LDA"
   ]
  },
  {
   "cell_type": "code",
   "execution_count": 65,
   "metadata": {
    "collapsed": true
   },
   "outputs": [],
   "source": [
    "class LDA(Classifier):\n",
    "    \n",
    "    def __init__(self):\n",
    "        Classifier.__init__(self)\n",
    "        self.mu = []\n",
    "        self.Sigma = None\n",
    "        self.prior = []\n",
    "        \n",
    "    def discriminant(self, X, mu, sigma, prior):\n",
    "        sigma=np.asmatrix(sigma)\n",
    "        sigmaInv = np.linalg.inv(sigma)\n",
    "        return (X@sigmaInv@mu.T) - (0.5*mu@sigmaInv@mu.T) + np.log(prior)\n",
    "    \n",
    "    def train(self, X, T):\n",
    "        Xs = self.normalize(X)\n",
    "        N = Xs.shape[0]\n",
    "        self.Sigma = np.cov(Xs.T)\n",
    "        print(self.Sigma)\n",
    "        \n",
    "        for c in np.unique(T):\n",
    "            c= c==T\n",
    "            mu = np.mean(Xs,0)\n",
    "            \n",
    "            prior = np.sum(c) / N\n",
    "            \n",
    "            self.mu.append(mu)\n",
    "            self.prior.append(prior)\n",
    "            \n",
    "            \n",
    "    def use(self, X):\n",
    "        Xs = (X-self.meanX)/self.stdX\n",
    "        d = []\n",
    "        for i in range(len(self.mu)):\n",
    "            d.append(self.discriminant(Xs, self.mu[i], self.Sigma, self.prior[i]))\n",
    "        return np.argmax(np.array(d),axis=0)"
   ]
  },
  {
   "cell_type": "markdown",
   "metadata": {},
   "source": [
    "### C. QDA"
   ]
  },
  {
   "cell_type": "code",
   "execution_count": 66,
   "metadata": {
    "collapsed": true
   },
   "outputs": [],
   "source": [
    "class QDA(Classifier):\n",
    "    \n",
    "    def __init__(self):\n",
    "        Classifier.__init__(self)\n",
    "        self.mu = []\n",
    "        self.Sigma = []\n",
    "        self.prior = []\n",
    "   \n",
    "    def discriminant(self, X, mu, sigma, prior):\n",
    "        sigma=np.asmatrix(sigma)\n",
    "        detSigma=np.linalg.det(sigma)\n",
    "        covar=X-mu.T\n",
    "        sigmaInv = np.linalg.inv(sigma)\n",
    "        print(sigmaInv.shape)\n",
    "        return ((-0.5 * np.log(detSigma)) - (0.5 * np.sum((covar) @ sigmaInv * (covar.T),axis=1) + np.log(prior)))\n",
    "    #[:,np.newaxis]\n",
    "    \n",
    "    def train(self, X, T):\n",
    "        Xs = self.normalize(X)\n",
    "        N = Xs.shape[0]\n",
    "\n",
    "        for c in np.unique(T):\n",
    "            c= c==T\n",
    "            mu = np.mean(Xs,0)\n",
    "            Sigma=np.cov(Xs.T)\n",
    "            \n",
    "            prior = np.sum(c) / N\n",
    "            \n",
    "            self.mu.append(mu)\n",
    "            self.prior.append(prior)\n",
    "            self.Sigma.append(Sigma)\n",
    "            \n",
    "            \n",
    "    def use(self, X):\n",
    "        Xs = (X-self.meanX)/self.stdX\n",
    "        d = []\n",
    "        for i in range(len(self.mu)):\n",
    "            print(Xs)\n",
    "            print(self.mu)\n",
    "            print(self.Sigma)\n",
    "            print(self.prior)\n",
    "            d.append(self.discriminant(Xs, self.mu[i], self.Sigma[i], self.prior[i]))\n",
    "        return np.argmax(np.array(d),axis=0)"
   ]
  },
  {
   "cell_type": "markdown",
   "metadata": {},
   "source": [
    "### E. Logistic Regression"
   ]
  },
  {
   "cell_type": "code",
   "execution_count": 67,
   "metadata": {
    "collapsed": true
   },
   "outputs": [],
   "source": [
    "class LogRegress(Classifier):\n",
    "    def __init__(self, alpha):\n",
    "        Classifier.__init__(self)\n",
    "        self.w = []\n",
    "        self.maxRuns = 1000\n",
    "        self.alpha = alpha\n",
    "        \n",
    "    def g(self, X):\n",
    "        z = X @ self.w\n",
    "        return  np.exp(z) / np.sum(np.exp(z), axis=1, keepdims=True)\n",
    "        \n",
    "    def train(self, X, T):\n",
    "        K = len(np.unique(T)) \n",
    "        D = X.shape[1] \n",
    "        \n",
    "        Xs = self.add_ones(self.normalize(X))\n",
    "        N = Xs.shape[0]\n",
    "        \n",
    "        Tt = np.zeros((N, K))\n",
    "        Tt[np.arange(N), T] = 1\n",
    "\n",
    "        self.w = np.zeros((D+1,K))\n",
    "        \n",
    "        for i in range(self.maxRuns):\n",
    "            self.w += self.alpha * Xs.T @ (Tt-self.g(Xs))\n",
    "    \n",
    "    def use(self, X):\n",
    "        Xs = self.add_ones(X)\n",
    "        Y = self.g(Xs)\n",
    "        return np.argmax(Y,1)"
   ]
  },
  {
   "cell_type": "markdown",
   "metadata": {},
   "source": [
    "# IV. Experiments\n",
    "\n",
    "Precision: Gives the accuracy of positive predictions. \n",
    "                 TP/TP+FP \n",
    "Recall: This measure give you how the model's prediction covers the positive class. \n",
    "                 TP/TP+FN \n",
    "Specificity: Gives the True Negative rate \n",
    "                 TN/TN+FP\n",
    "\n",
    "Pocket Algorithm: Since, the execution of this algorithm was taking time, I have included only 300 rows and implemented it with 5 different alpha values.\n",
    "It shows the same performance measurement for all the values.But since I am taking only a part of my dataset for this algorithm, comparing it with other three algorithms would not be a right choice. \n",
    "I plotted Target values and the predicted values.The predicted value of Gender: male overlaps with the target values.\n",
    "\n",
    "LDA: LDA has around 0.65 accuracy. This value changes as the train and split function randomly takes the train data set and test data set. \n",
    "The precision is zero where as the specificity is 1 which means the negatives are correctly predicted as negatives. \n",
    "I plotted Target values and the predicted values. The predicted value of Gender: male overlaps with the target values.\n",
    "\n",
    "QDA: QDA has around 0.35 accuracy. This value changes as the train and split function randomly takes the train data set and test data set.\n",
    "The precision is 0.7(positive predictions accuracy) where as the specificity is 1 which means the negatives are correctly predicted as negatives.\n",
    "The predicted value of Gender: female overlaps with the target values. I plotted Target values and the predicted values.When compared to LDA and Logistic regression it has more accuracy value.\n",
    "\n",
    "Logistic Regression:Logistic has around 0.65 accuracy. This value changes as the train and split function randomly takes the train data set and test data set. \n",
    "The precision is zero where as the specificity is 1 which means the negatives are correctly predicted as negatives.\n",
    "I plotted Target values and the predicted values. The predicted value of Gender: male overlaps with the target values.\n",
    "\n",
    "Comparison: Among all the algorithms, Logistic Regression and LDA is suitable for my dataset.\n"
   ]
  },
  {
   "cell_type": "code",
   "execution_count": 68,
   "metadata": {
    "collapsed": true
   },
   "outputs": [],
   "source": [
    "def acc(cfm):\n",
    "    #cfm=cfm.as_matrix()\n",
    "    cfm=np.array(cfm)\n",
    "    return (cfm[1,1]+cfm[0,0])/(cfm[0,0]+cfm[0,1]+cfm[1,0]+cfm[1,1])\n",
    "\n",
    "def recall(cfm):\n",
    "    cfm=np.array(cfm)\n",
    "    return cfm[1,1]/(cfm[1,1]+cfm[0,1])\n",
    "\n",
    "def precision(cfm):\n",
    "    cfm=np.array(cfm)\n",
    "    if cfm[1, 1] + cfm[1, 0] == 0 :\n",
    "        return 0\n",
    "    else:\n",
    "        return cfm[1, 1] / (cfm[1, 1] + cfm[1, 0])\n",
    "    \n",
    "def specificity(cfm):\n",
    "    cfm=np.array(cfm)\n",
    "    return cfm[0,0]/(cfm[0,0]+cfm[1,0])\n",
    "\n",
    "def confusion_matrix(Y, T):\n",
    "    \"\"\"\n",
    "        Y    nd.array\n",
    "             predicted labels\n",
    "        T    nd.array\n",
    "             target labels\n",
    "             \n",
    "        @cfm DataFrame\n",
    "             confusion matrix\n",
    "    \"\"\"\n",
    "    \n",
    "    if len(Y) != len(T):\n",
    "        raise ValueError(\"Wrong prediction and target length!\")\n",
    "    \n",
    "    classes = np.unique(T)\n",
    "    n_classes = len(classes)\n",
    "    \n",
    "    cfm = pd.DataFrame(np.zeros((n_classes, n_classes)), index=classes, columns=classes, dtype=int)\n",
    "    \n",
    "    Tidx = [T == c for c in classes]\n",
    "    for c in classes:\n",
    "        pred_idx = Y == c\n",
    "        cfm.loc[c, :] = [np.sum(np.logical_and(pred_idx, tidx)) for tidx in Tidx]\n",
    "    \n",
    "    return cfm\n",
    "    "
   ]
  },
  {
   "cell_type": "code",
   "execution_count": 69,
   "metadata": {
    "collapsed": true
   },
   "outputs": [],
   "source": [
    "UsDeaths1=new_UsDeaths_Data[:100]"
   ]
  },
  {
   "cell_type": "code",
   "execution_count": 70,
   "metadata": {},
   "outputs": [
    {
     "name": "stdout",
     "output_type": "stream",
     "text": [
      "(100, 1) (100, 1)\n"
     ]
    }
   ],
   "source": [
    "X=np.array(UsDeaths1.loc[:,[\"detail_age\"]])\n",
    "T=np.array(UsDeaths1.loc[:,\"sex\",]).reshape(-1,1)\n",
    "print(T.shape, X.shape)"
   ]
  },
  {
   "cell_type": "code",
   "execution_count": 71,
   "metadata": {},
   "outputs": [
    {
     "name": "stdout",
     "output_type": "stream",
     "text": [
      "(80, 1) (80, 1)\n",
      "(20, 1) (20, 1)\n",
      "(80, 1)\n"
     ]
    }
   ],
   "source": [
    "X_train, X_test, Y_train, Y_test = train_test_split(X,T,test_size=0.2)\n",
    "print (X_train.shape, Y_train.shape)\n",
    "print (X_test.shape, Y_test.shape)\n",
    "print(Y_train.shape)"
   ]
  },
  {
   "cell_type": "code",
   "execution_count": 72,
   "metadata": {},
   "outputs": [
    {
     "name": "stdout",
     "output_type": "stream",
     "text": [
      "Alhpa Value: 0.1\n",
      "      Measures  Values\n",
      "0     Accuracy     0.5\n",
      "1    Precision     0.0\n",
      "2  Specificity     1.0\n",
      "3       Recall     0.0\n",
      "Alhpa Value: 0.01\n",
      "      Measures  Values\n",
      "0     Accuracy     0.5\n",
      "1    Precision     0.0\n",
      "2  Specificity     1.0\n",
      "3       Recall     0.0\n",
      "Alhpa Value: 0.001\n",
      "      Measures  Values\n",
      "0     Accuracy     0.5\n",
      "1    Precision     0.0\n",
      "2  Specificity     1.0\n",
      "3       Recall     0.0\n",
      "Alhpa Value: 0.0001\n",
      "      Measures  Values\n",
      "0     Accuracy     0.5\n",
      "1    Precision     0.0\n",
      "2  Specificity     1.0\n",
      "3       Recall     0.0\n",
      "Alhpa Value: 1e-05\n",
      "      Measures  Values\n",
      "0     Accuracy     0.5\n",
      "1    Precision     0.0\n",
      "2  Specificity     1.0\n",
      "3       Recall     0.0\n"
     ]
    }
   ],
   "source": [
    "for alpha in (0.1,0.01,0.001,0.0001,0.00001):\n",
    "    ls1 = perceptron(alpha)\n",
    "    ls1.train(X_train, Y_train)\n",
    "    Y=ls1.use(X_test).T\n",
    "    cfm = confusion_matrix(Y,Y_test)\n",
    "    s1=precision(cfm)\n",
    "    s=acc(cfm1)\n",
    "    s2=specificity(cfm)\n",
    "    s3=recall(cfm)\n",
    "    print(\"Alhpa Value:\",alpha)\n",
    "    df = pd.DataFrame({'Measures':['Accuracy','Precision','Specificity','Recall'],'Values':[s,s1,s2,s3]})\n",
    "    print(df)\n",
    "    "
   ]
  },
  {
   "cell_type": "code",
   "execution_count": 73,
   "metadata": {},
   "outputs": [
    {
     "data": {
      "image/png": "[encoded data removed]",
      "text/plain": [
       "<matplotlib.figure.Figure at 0x21b8afc21d0>"
      ]
     },
     "metadata": {},
     "output_type": "display_data"
    }
   ],
   "source": [
    "fig = plt.figure()\n",
    "ax = fig.add_subplot(1,1,1)\n",
    "ax.plot(T, '.', color='b', label='Target Value')\n",
    "ax.plot(Y, '.', color='r', label='Predicted Values')\n",
    "handles, labels = ax.get_legend_handles_labels()\n",
    "ax.legend(handles, labels)\n",
    "plt.show()"
   ]
  },
  {
   "cell_type": "code",
   "execution_count": 74,
   "metadata": {},
   "outputs": [
    {
     "name": "stdout",
     "output_type": "stream",
     "text": [
      "1.0126582278481013\n",
      "      Measures  Values\n",
      "0     Accuracy    0.65\n",
      "1    Precision    0.00\n",
      "2  Specificity    1.00\n",
      "3       Recall    0.00\n"
     ]
    }
   ],
   "source": [
    "ls = LDA()\n",
    "ls.train(X_train, Y_train)\n",
    "Y=ls.use(X_test).T\n",
    "cfm1 = confusion_matrix(Y,Y_test)\n",
    "s3=precision(cfm1)\n",
    "s4=acc(cfm1)\n",
    "s2=specificity(cfm1)\n",
    "s5=recall(cfm)\n",
    "df = pd.DataFrame({'Measures':['Accuracy','Precision','Specificity','Recall'],'Values':[s4,s3,s2,s5]})\n",
    "print(df)"
   ]
  },
  {
   "cell_type": "code",
   "execution_count": 75,
   "metadata": {},
   "outputs": [
    {
     "data": {
      "image/png": "[encoded data removed]",
      "text/plain": [
       "<matplotlib.figure.Figure at 0x21b8afc2438>"
      ]
     },
     "metadata": {},
     "output_type": "display_data"
    }
   ],
   "source": [
    "fig = plt.figure()\n",
    "ax = fig.add_subplot(1,1,1)\n",
    "ax.plot(T, '.', color='b', label='Target Value')\n",
    "ax.plot(Y, '.', color='r', label='Predicted Values')\n",
    "handles, labels = ax.get_legend_handles_labels()\n",
    "ax.legend(handles, labels)\n",
    "plt.show()"
   ]
  },
  {
   "cell_type": "code",
   "execution_count": 76,
   "metadata": {},
   "outputs": [
    {
     "name": "stdout",
     "output_type": "stream",
     "text": [
      "[[-1.23252151]\n",
      " [-0.82722965]\n",
      " [ 0.79393782]\n",
      " [-0.47983662]\n",
      " [ 1.25712852]\n",
      " [-0.71143197]\n",
      " [-1.11672384]\n",
      " [ 0.33074711]\n",
      " [-0.71143197]\n",
      " [ 1.43082503]\n",
      " [ 1.60452155]\n",
      " [ 0.09915176]\n",
      " [ 0.56234246]\n",
      " [-2.91158781]\n",
      " [ 0.67814014]\n",
      " [ 0.90973549]\n",
      " [-2.21680176]\n",
      " [-0.36403894]\n",
      " [ 1.19922968]\n",
      " [ 1.02553317]]\n",
      "[array([  3.33066907e-16]), array([  3.33066907e-16])]\n",
      "[array(1.0126582278481013), array(1.0126582278481013)]\n",
      "[0.55000000000000004, 0.45000000000000001]\n",
      "(1, 1)\n",
      "[[-1.23252151]\n",
      " [-0.82722965]\n",
      " [ 0.79393782]\n",
      " [-0.47983662]\n",
      " [ 1.25712852]\n",
      " [-0.71143197]\n",
      " [-1.11672384]\n",
      " [ 0.33074711]\n",
      " [-0.71143197]\n",
      " [ 1.43082503]\n",
      " [ 1.60452155]\n",
      " [ 0.09915176]\n",
      " [ 0.56234246]\n",
      " [-2.91158781]\n",
      " [ 0.67814014]\n",
      " [ 0.90973549]\n",
      " [-2.21680176]\n",
      " [-0.36403894]\n",
      " [ 1.19922968]\n",
      " [ 1.02553317]]\n",
      "[array([  3.33066907e-16]), array([  3.33066907e-16])]\n",
      "[array(1.0126582278481013), array(1.0126582278481013)]\n",
      "[0.55000000000000004, 0.45000000000000001]\n",
      "(1, 1)\n",
      "      Measures  Values\n",
      "0     Accuracy    0.35\n",
      "1    Precision    0.35\n",
      "2  Specificity    0.00\n",
      "3       Recall    0.00\n"
     ]
    }
   ],
   "source": [
    "ls2 = QDA()\n",
    "ls2.train(X_train, Y_train)\n",
    "Y=ls2.use(X_test).T\n",
    "cfm1 = confusion_matrix(Y,Y_test.T)\n",
    "s1=precision(cfm1)\n",
    "s=acc(cfm1)\n",
    "s2=specificity(cfm1)\n",
    "s6=recall(cfm)\n",
    "df = pd.DataFrame({'Measures':['Accuracy','Precision','Specificity','Recall'],'Values':[s,s1,s2,s6]})\n",
    "print(df)"
   ]
  },
  {
   "cell_type": "code",
   "execution_count": 77,
   "metadata": {},
   "outputs": [
    {
     "data": {
      "image/png": "[encoded data removed]",
      "text/plain": [
       "<matplotlib.figure.Figure at 0x21b8af8b908>"
      ]
     },
     "metadata": {},
     "output_type": "display_data"
    }
   ],
   "source": [
    "fig = plt.figure()\n",
    "ax = fig.add_subplot(1,1,1)\n",
    "ax.plot(T, '.', color='b', label='Target Value')\n",
    "ax.plot(Y, '.', color='r')\n",
    "handles, labels = ax.get_legend_handles_labels()\n",
    "ax.legend(handles, labels)\n",
    "plt.show()"
   ]
  },
  {
   "cell_type": "code",
   "execution_count": 78,
   "metadata": {},
   "outputs": [
    {
     "name": "stdout",
     "output_type": "stream",
     "text": [
      "Alpha value: 0.1\n",
      "      Measures  Values\n",
      "0     Accuracy    0.65\n",
      "1    Precision    0.00\n",
      "2  Specificity    1.00\n",
      "3       Recall    0.00\n",
      "Alpha value: 0.01\n",
      "      Measures  Values\n",
      "0     Accuracy    0.65\n",
      "1    Precision    0.00\n",
      "2  Specificity    1.00\n",
      "3       Recall    0.00\n",
      "Alpha value: 0.001\n",
      "      Measures  Values\n",
      "0     Accuracy    0.65\n",
      "1    Precision    0.00\n",
      "2  Specificity    1.00\n",
      "3       Recall    0.00\n",
      "Alpha value: 0.0001\n",
      "      Measures  Values\n",
      "0     Accuracy    0.65\n",
      "1    Precision    0.00\n",
      "2  Specificity    1.00\n",
      "3       Recall    0.00\n",
      "Alpha value: 1e-05\n",
      "      Measures  Values\n",
      "0     Accuracy    0.65\n",
      "1    Precision    0.00\n",
      "2  Specificity    1.00\n",
      "3       Recall    0.00\n"
     ]
    },
    {
     "name": "stderr",
     "output_type": "stream",
     "text": [
      "C:\\Users\\isara\\Anaconda3\\lib\\site-packages\\ipykernel_launcher.py:10: RuntimeWarning: overflow encountered in exp\n",
      "  # Remove the CWD from sys.path while we load stuff.\n",
      "C:\\Users\\isara\\Anaconda3\\lib\\site-packages\\ipykernel_launcher.py:10: RuntimeWarning: invalid value encountered in true_divide\n",
      "  # Remove the CWD from sys.path while we load stuff.\n"
     ]
    }
   ],
   "source": [
    "for alpha in (0.1,0.01,0.001,0.0001,0.00001):\n",
    "    ls3 = LogRegress(alpha)\n",
    "    ls3.train(X_train, Y_train)\n",
    "    Y=ls3.use(X_test).T\n",
    "    cfm1 = confusion_matrix(Y,Y_test)\n",
    "    s1=precision(cfm1)\n",
    "    s=acc(cfm1)\n",
    "    s2=specificity(cfm1)\n",
    "    s7=recall(cfm)\n",
    "    print(\"Alpha value:\",alpha)\n",
    "    df = pd.DataFrame({'Measures':['Accuracy','Precision','Specificity','Recall'],'Values':[s,s1,s2,s7]})\n",
    "    print(df)\n",
    "    "
   ]
  },
  {
   "cell_type": "code",
   "execution_count": 79,
   "metadata": {},
   "outputs": [
    {
     "data": {
      "image/png": "[encoded data removed]",
      "text/plain": [
       "<matplotlib.figure.Figure at 0x21b8afc02e8>"
      ]
     },
     "metadata": {},
     "output_type": "display_data"
    }
   ],
   "source": [
    "fig = plt.figure()\n",
    "ax = fig.add_subplot(1,1,1)\n",
    "ax.plot(T, '.', color='b', label='Target Value')\n",
    "ax.plot(Y, '.', color='r', label='Predicted Values')\n",
    "handles, labels = ax.get_legend_handles_labels()\n",
    "ax.legend(handles, labels)\n",
    "plt.show()"
   ]
  },
  {
   "cell_type": "markdown",
   "metadata": {},
   "source": [
    "# Conclusions\n",
    "\n",
    "The classifier I think the best is Logistic Regression and LDA because the performance measurement is better when compared to other algorithms. The challenge was in the implementation part and doing experiments with different algorithms on the dataset."
   ]
  },
  {
   "cell_type": "markdown",
   "metadata": {},
   "source": [
    "# References\n",
    "https://www.kaggle.com/cdc/mortality"
   ]
  },
  {
   "cell_type": "markdown",
   "metadata": {},
   "source": [
    "# Extra Credit\n",
    "\n",
    "Search for a ordinal data set and apply your classifiers to it. \n",
    "Repeat the experiments on it. \n",
    "Do you have different observation from previous results? \n",
    "Were you able to observe that we discussed in class about logistic regression? \n",
    "For a full extra credit point, you need to discuss all bullet points in Results section.     "
   ]
  },
  {
   "cell_type": "markdown",
   "metadata": {},
   "source": [
    "## Grading\n",
    "\n",
    "DO NOT forget to submit your data! Your notebook is supposed to run well after running your codes. \n",
    "\n",
    "\n",
    "points | | description\n",
    "--|--|:--\n",
    "5 | Overview| states the objective and the appraoch \n",
    "15 | Data | \n",
    " | 5| description \n",
    " | 5| plots for understanding or analysis \n",
    " | 5| preliminary observation \n",
    "25 | Methods | \n",
    " |10| Summary of Classification models\n",
    " | 5| Explanation of codes\n",
    " |10| Pocket, LDA, QDA, Logistic Regression\n",
    "40 | Experiments \n",
    "|10| Discussion about evaluation metrics\n",
    "|20| plots for results (5 for each algorithm)\n",
    "|10| Discussions about classificaion model comparison\n",
    "5 | |Conclusions \n",
    "5 | |Referemces\n",
    "5 | |Grammar and spelling error (Proofread please)"
   ]
  }
 ],
 "metadata": {
  "kernelspec": {
   "display_name": "Python 3",
   "language": "python",
   "name": "python3"
  },
  "language_info": {
   "codemirror_mode": {
    "name": "ipython",
    "version": 3
   },
   "file_extension": ".py",
   "mimetype": "text/x-python",
   "name": "python",
   "nbconvert_exporter": "python",
   "pygments_lexer": "ipython3",
   "version": "3.6.3"
  }
 },
 "nbformat": 4,
 "nbformat_minor": 2
}
